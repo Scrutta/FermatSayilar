{
  "nbformat": 4,
  "nbformat_minor": 0,
  "metadata": {
    "colab": {
      "provenance": [],
      "authorship_tag": "ABX9TyOfMNGLkifCnR2VLt/PHl6o"
    },
    "kernelspec": {
      "name": "python3",
      "display_name": "Python 3"
    },
    "language_info": {
      "name": "python"
    }
  },
  "cells": [
    {
      "cell_type": "code",
      "execution_count": null,
      "metadata": {
        "colab": {
          "base_uri": "https://localhost:8080/"
        },
        "id": "B0ZgrUZ0de--",
        "outputId": "e1d03553-05bd-46e1-96d1-037cb46daba1"
      },
      "outputs": [
        {
          "output_type": "stream",
          "name": "stdout",
          "text": [
            "F0:3 sayısı Asaldır:True\n",
            "F1:5 sayısı Asaldır:True\n",
            "F2:17 sayısı Asaldır:True\n",
            "F3:257 sayısı Asaldır:True\n",
            "F4:65537 sayısı Asaldır:True\n",
            "F5:4294967297 sayısı Asaldır:True\n",
            "F6:18446744073709551617 sayısı Asaldır:None\n",
            "F7:340282366920938463463374607431768211457 sayısı Asaldır:None\n",
            "F8:115792089237316195423570985008687907853269984665640564039457584007913129639937 sayısı Asaldır:None\n",
            "F9:13407807929942597099574024998205846127479365820592393377723561443721764030073546976801874298166903427690031858186486050853753882811946569946433649006084097 sayısı Asaldır:None\n"
          ]
        }
      ],
      "source": [
        "import math\n",
        "from decimal import Decimal\n",
        "\n",
        "def Asal(sayi):\n",
        "    karekok=math.sqrt(float(sayi))\n",
        "    tamsayi=int(karekok)\n",
        "\n",
        "    if (sayi%2==0 and sayi>2) or (sayi%3==0 and sayi>3) or (sayi%5==0 and sayi>5) or (sayi%7==0 and sayi>7):\n",
        "      return False\n",
        "    else:\n",
        "      if (karekok!=tamsayi):\n",
        "        return True\n",
        "\n",
        "\n",
        "for i in range(10):\n",
        "  Fermat=(2**2**i)+1\n",
        "  b=Asal(Fermat)\n",
        "  print (\"F\"+str(i)+\":\" + str(Fermat) + \" sayısı Asaldır:\" + str(b))"
      ]
    }
  ]
}